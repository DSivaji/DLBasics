{
 "cells": [
  {
   "cell_type": "markdown",
   "metadata": {},
   "source": [
    "### Digits recognition using CNN"
   ]
  },
  {
   "cell_type": "markdown",
   "metadata": {},
   "source": [
    "#### Loading required packages"
   ]
  },
  {
   "cell_type": "code",
   "execution_count": 1,
   "metadata": {},
   "outputs": [
    {
     "name": "stdout",
     "output_type": "stream",
     "text": [
      "Populating the interactive namespace from numpy and matplotlib\n"
     ]
    },
    {
     "name": "stderr",
     "output_type": "stream",
     "text": [
      "Using TensorFlow backend.\n",
      "/home/sivaji/anaconda3/lib/python3.6/importlib/_bootstrap.py:219: RuntimeWarning: compiletime version 3.5 of module 'tensorflow.python.framework.fast_tensor_util' does not match runtime version 3.6\n",
      "  return f(*args, **kwds)\n"
     ]
    }
   ],
   "source": [
    "%pylab inline\n",
    "\n",
    "import pandas as pd\n",
    "import os\n",
    "import numpy as np\n",
    "from skimage.transform import resize\n",
    "from skimage.io import imread\n",
    "import matplotlib.pyplot as plt\n",
    "import keras\n",
    "from keras.utils.np_utils import to_categorical\n",
    "from keras.layers import Conv2D, MaxPooling2D\n",
    "from keras.layers import Dense, Dropout, Activation, Flatten\n",
    "from keras.models import Sequential\n",
    "from sklearn.model_selection import train_test_split\n",
    "from sklearn.metrics import accuracy_score"
   ]
  },
  {
   "cell_type": "code",
   "execution_count": 2,
   "metadata": {},
   "outputs": [
    {
     "name": "stdout",
     "output_type": "stream",
     "text": [
      "total 652\n",
      "-rw-rw-r-- 1 sivaji sivaji 576905 Sep 30  2016 train.csv\n",
      "drwxrwxr-x 4 sivaji sivaji   4096 Oct  1  2016 Images\n",
      "drwxrwxr-x 3 sivaji sivaji   4096 Dec  7 12:23 ..\n",
      "drwxr-xr-x 2 sivaji sivaji   4096 Dec  7 17:08 .ipynb_checkpoints\n",
      "-rw-rw-r-- 1 sivaji sivaji  71971 Dec  7 17:08 CNN.ipynb\n",
      "drwxrwxr-x 4 sivaji sivaji   4096 Dec  7 17:08 .\n",
      "total 1836\n",
      "drwxrwxr-x 2 sivaji sivaji  569344 Oct  1  2016 test\n",
      "drwxrwxr-x 2 sivaji sivaji 1298432 Oct  1  2016 train\n",
      "drwxrwxr-x 4 sivaji sivaji    4096 Oct  1  2016 .\n",
      "drwxrwxr-x 4 sivaji sivaji    4096 Dec  7 17:08 ..\n"
     ]
    }
   ],
   "source": [
    "%%bash\n",
    "\n",
    "ls -ltra\n",
    "\n",
    "ls -ltra ./Images/"
   ]
  },
  {
   "cell_type": "markdown",
   "metadata": {},
   "source": [
    "#### Reading training files and it's labes"
   ]
  },
  {
   "cell_type": "code",
   "execution_count": 3,
   "metadata": {
    "collapsed": true
   },
   "outputs": [],
   "source": [
    "train = pd.read_csv('./train.csv')\n",
    "trfiles = list(train['filename'])\n",
    "label = list(train['label'])\n",
    "tsfiles = os.listdir('./Images/test/')"
   ]
  },
  {
   "cell_type": "markdown",
   "metadata": {},
   "source": [
    "#### Reading images from the disk and creating as an numpy array"
   ]
  },
  {
   "cell_type": "code",
   "execution_count": 4,
   "metadata": {},
   "outputs": [],
   "source": [
    "path  = './Images/train/'\n",
    "train_x = []\n",
    "for f in trfiles:\n",
    "    img = imread(path + f,flatten= True,mode = 'L')\n",
    "    img = img.reshape(28,28,1)\n",
    "    train_x.append(img)\n",
    "    \n",
    "path  = './Images/test/'\n",
    "test_x = []\n",
    "for f in tsfiles:\n",
    "    img = imread(path + f,flatten= True,mode = 'L')\n",
    "    img = img.reshape(28,28,1)\n",
    "    test_x.append(img)"
   ]
  },
  {
   "cell_type": "code",
   "execution_count": 5,
   "metadata": {},
   "outputs": [],
   "source": [
    "train_x = np.array(train_x)\n",
    "test_x = np.array(test_x)\n",
    "train_y = np.array(label)"
   ]
  },
  {
   "cell_type": "markdown",
   "metadata": {},
   "source": [
    "#### Spliting training data into train and validation"
   ]
  },
  {
   "cell_type": "code",
   "execution_count": 6,
   "metadata": {},
   "outputs": [],
   "source": [
    "trainx, valx, trainy,valy = train_test_split(train_x,train_y,test_size=.3)\n",
    "\n",
    "# converting lables into dummies\n",
    "trainy = to_categorical(trainy)\n",
    "valy = to_categorical(valy)"
   ]
  },
  {
   "cell_type": "markdown",
   "metadata": {},
   "source": [
    "#### Training a model"
   ]
  },
  {
   "cell_type": "code",
   "execution_count": 7,
   "metadata": {},
   "outputs": [],
   "source": [
    "## building CNN layers\n",
    "model = Sequential() \n",
    "model.add(Conv2D(50,( 3, 3), activation='relu', input_shape=(28,28,1)))\n",
    "model.add(MaxPooling2D(pool_size=(2,2)))\n",
    "model.add(Conv2D(28, (3, 3), activation='relu'))\n",
    "model.add(MaxPooling2D(pool_size=(2,2)))\n",
    "model.add(Dropout(0.25))\n",
    "model.add(Flatten())\n",
    "model.add(Dense(128, activation='relu'))\n",
    "model.add(Dense(50, activation='relu'))\n",
    "model.add(Dropout(0.5))\n",
    "model.add(Dense(10, activation='softmax'))\n",
    "# model.output_shape"
   ]
  },
  {
   "cell_type": "code",
   "execution_count": 8,
   "metadata": {
    "collapsed": true
   },
   "outputs": [],
   "source": [
    "model.compile(loss='categorical_crossentropy',\n",
    "              optimizer='adam',\n",
    "              metrics=['accuracy'])"
   ]
  },
  {
   "cell_type": "code",
   "execution_count": 9,
   "metadata": {},
   "outputs": [
    {
     "name": "stdout",
     "output_type": "stream",
     "text": [
      "Epoch 1/10\n",
      "34300/34300 [==============================] - 18s 523us/step - loss: 0.4381 - acc: 0.8647\n",
      "Epoch 2/10\n",
      "34300/34300 [==============================] - 18s 523us/step - loss: 0.1448 - acc: 0.9603\n",
      "Epoch 3/10\n",
      "34300/34300 [==============================] - 18s 522us/step - loss: 0.1097 - acc: 0.9706\n",
      "Epoch 4/10\n",
      "34300/34300 [==============================] - 18s 523us/step - loss: 0.0862 - acc: 0.9777\n",
      "Epoch 5/10\n",
      "34300/34300 [==============================] - 18s 526us/step - loss: 0.0720 - acc: 0.9799\n",
      "Epoch 6/10\n",
      "34300/34300 [==============================] - 18s 527us/step - loss: 0.0631 - acc: 0.9820\n",
      "Epoch 7/10\n",
      "34300/34300 [==============================] - 18s 536us/step - loss: 0.0549 - acc: 0.9841\n",
      "Epoch 8/10\n",
      "34300/34300 [==============================] - 18s 527us/step - loss: 0.0513 - acc: 0.9855\n",
      "Epoch 9/10\n",
      "34300/34300 [==============================] - 18s 533us/step - loss: 0.0487 - acc: 0.9871\n",
      "Epoch 10/10\n",
      "34300/34300 [==============================] - 18s 525us/step - loss: 0.0453 - acc: 0.9874\n"
     ]
    },
    {
     "data": {
      "text/plain": [
       "<keras.callbacks.History at 0x7f1687222fd0>"
      ]
     },
     "execution_count": 9,
     "metadata": {},
     "output_type": "execute_result"
    }
   ],
   "source": [
    "model.fit(trainx, trainy, \n",
    "          batch_size=32, epochs=10, verbose=1)"
   ]
  },
  {
   "cell_type": "code",
   "execution_count": 10,
   "metadata": {},
   "outputs": [
    {
     "name": "stdout",
     "output_type": "stream",
     "text": [
      "Accuracy in validation: 0.988843537415\n"
     ]
    }
   ],
   "source": [
    "valpred = model.predict(valx)\n",
    "print('Accuracy in validation:', accuracy_score(np.argmax(valy,axis=1),np.argmax(valpred,axis = 1)))"
   ]
  },
  {
   "cell_type": "code",
   "execution_count": 11,
   "metadata": {},
   "outputs": [
    {
     "data": {
      "image/png": "[encoded data removed]",
      "text/plain": [
       "<matplotlib.figure.Figure at 0x7f1686d79ba8>"
      ]
     },
     "metadata": {},
     "output_type": "display_data"
    }
   ],
   "source": [
    "# mis-classification visualization in validation dataset\n",
    "\n",
    "actual = np.argmax(valy,axis=1)[np.argmax(valy,axis=1) != np.argmax(valpred,axis = 1)]\n",
    "predicted = np.argmax(valpred,axis = 1)[np.argmax(valy,axis=1) != np.argmax(valpred,axis = 1)]\n",
    "pltdt = valx[np.argmax(valy,axis=1) != np.argmax(valpred,axis = 1)]\n",
    "pltdt = pltdt.reshape(pltdt.shape[0],28,28)\n",
    "\n",
    "\n",
    "f, axarr = plt.subplots(10, 10)\n",
    "f.set_figheight(10)\n",
    "f.set_figwidth(15)\n",
    "# f.axis('off')\n",
    "np.vectorize(lambda ax:ax.axis('off'))(axarr)\n",
    "for i in range(10):\n",
    "    \n",
    "    p = predicted[actual == i]\n",
    "    d = pltdt[actual == i]\n",
    "    for j in range(10):\n",
    "        p1 = p[p== j]\n",
    "        d1 = d[p == j]\n",
    "        if d1.shape[0] != 0:\n",
    "            d1 = d1[0]\n",
    "            axarr[i,j].imshow(d1.reshape(28,28))            \n",
    "            axarr[i,j].axis('off')\n",
    "# plt.tight_layout()\n",
    "plt.show()"
   ]
  },
  {
   "cell_type": "code",
   "execution_count": 12,
   "metadata": {},
   "outputs": [
    {
     "data": {
      "text/html": [
       "<div>\n",
       "<style>\n",
       "    .dataframe thead tr:only-child th {\n",
       "        text-align: right;\n",
       "    }\n",
       "\n",
       "    .dataframe thead th {\n",
       "        text-align: left;\n",
       "    }\n",
       "\n",
       "    .dataframe tbody tr th {\n",
       "        vertical-align: top;\n",
       "    }\n",
       "</style>\n",
       "<table border=\"1\" class=\"dataframe\">\n",
       "  <thead>\n",
       "    <tr style=\"text-align: right;\">\n",
       "      <th></th>\n",
       "      <th>filename</th>\n",
       "      <th>label</th>\n",
       "    </tr>\n",
       "  </thead>\n",
       "  <tbody>\n",
       "    <tr>\n",
       "      <th>0</th>\n",
       "      <td>68281.png</td>\n",
       "      <td>0</td>\n",
       "    </tr>\n",
       "    <tr>\n",
       "      <th>1</th>\n",
       "      <td>52697.png</td>\n",
       "      <td>1</td>\n",
       "    </tr>\n",
       "    <tr>\n",
       "      <th>2</th>\n",
       "      <td>50626.png</td>\n",
       "      <td>7</td>\n",
       "    </tr>\n",
       "    <tr>\n",
       "      <th>3</th>\n",
       "      <td>63526.png</td>\n",
       "      <td>4</td>\n",
       "    </tr>\n",
       "    <tr>\n",
       "      <th>4</th>\n",
       "      <td>52854.png</td>\n",
       "      <td>4</td>\n",
       "    </tr>\n",
       "  </tbody>\n",
       "</table>\n",
       "</div>"
      ],
      "text/plain": [
       "    filename  label\n",
       "0  68281.png      0\n",
       "1  52697.png      1\n",
       "2  50626.png      7\n",
       "3  63526.png      4\n",
       "4  52854.png      4"
      ]
     },
     "execution_count": 12,
     "metadata": {},
     "output_type": "execute_result"
    }
   ],
   "source": [
    "testpred = model.predict(test_x)\n",
    "submit = pd.DataFrame({'filename':tsfiles,'label':np.argmax(testpred,axis=1)})\n",
    "submit.head()"
   ]
  }
 ],
 "metadata": {
  "kernelspec": {
   "display_name": "Python 3",
   "language": "python",
   "name": "python3"
  },
  "language_info": {
   "codemirror_mode": {
    "name": "ipython",
    "version": 3
   },
   "file_extension": ".py",
   "mimetype": "text/x-python",
   "name": "python",
   "nbconvert_exporter": "python",
   "pygments_lexer": "ipython3",
   "version": "3.6.3"
  }
 },
 "nbformat": 4,
 "nbformat_minor": 2
}
